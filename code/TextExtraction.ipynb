{
 "cells": [
  {
   "cell_type": "code",
   "execution_count": 1,
   "metadata": {},
   "outputs": [],
   "source": [
    "import os\n",
    "import glob\n",
    "import itertools\n",
    "import string\n",
    "from os import path\n",
    "from collections import defaultdict\n",
    "\n",
    "import numpy as np\n",
    "import pandas as pd\n",
    "import matplotlib.pyplot as plt\n",
    "import seaborn as sns\n",
    "sns.set();\n",
    "\n",
    "import nltk\n",
    "from nltk.corpus import stopwords\n",
    "import textract\n",
    "from sklearn.feature_extraction.text import TfidfVectorizer\n",
    "import stylecloud\n",
    "\n",
    "import spacy\n",
    "from spacy import displacy"
   ]
  },
  {
   "cell_type": "markdown",
   "metadata": {},
   "source": [
    "# Utils"
   ]
  },
  {
   "cell_type": "code",
   "execution_count": 2,
   "metadata": {},
   "outputs": [],
   "source": [
    "def freq_dist_to_csv(fd, name):\n",
    "    df = pd.DataFrame(fd.most_common())\n",
    "    df.columns = [\"word\", \"freq\"]\n",
    "    df.to_csv(path.join(\"processed\", name + \".csv\"))"
   ]
  },
  {
   "cell_type": "code",
   "execution_count": 3,
   "metadata": {},
   "outputs": [],
   "source": [
    "stop_words = set()\n",
    "stop_words = stop_words.union(set(stopwords.words('english')))\n",
    "stop_words = stop_words.union(set(string.punctuation))\n",
    "stop_words = stop_words.union({str(x) for x in range(100)})\n",
    "\n",
    "def get_tokens_from_text(text):\n",
    "    for token in nltk.tokenize.word_tokenize(text):\n",
    "        if token not in stop_words:\n",
    "            tokens.append(token.lower())\n",
    "            \n",
    "    return tokens"
   ]
  },
  {
   "cell_type": "code",
   "execution_count": 7,
   "metadata": {},
   "outputs": [],
   "source": [
    "def save_text_file(text, name):\n",
    "    with open(path.join(\"text\", name + \".txt\"), \"w\") as f:\n",
    "        f.write(text)"
   ]
  },
  {
   "cell_type": "markdown",
   "metadata": {},
   "source": [
    "# Processing"
   ]
  },
  {
   "cell_type": "code",
   "execution_count": null,
   "metadata": {},
   "outputs": [],
   "source": [
    "pdfs = glob.glob('./papers/*/*')\n",
    "\n",
    "for pdf in pdfs:\n",
    "    category = pdf.split(\"/\")[2]\n",
    "    paper_name = pdf.split(\"/\")[3]\n",
    "    text = textract.process(pdf).decode(\"utf-8\").lower()\n",
    "    save"
   ]
  },
  {
   "cell_type": "code",
   "execution_count": 4,
   "metadata": {},
   "outputs": [],
   "source": [
    "pdfs = glob.glob('./papers/*/*')\n",
    "pdfs_text = {}\n",
    "for pdf in pdfs:\n",
    "    category = pdf.split(\"/\")[2]\n",
    "    paper_name = pdf.split(\"/\")[3]\n",
    "    pdfs_text[(category, paper_name)] = textract.process(pdf).decode(\"utf-8\").lower()"
   ]
  },
  {
   "cell_type": "code",
   "execution_count": null,
   "metadata": {},
   "outputs": [],
   "source": []
  },
  {
   "cell_type": "code",
   "execution_count": null,
   "metadata": {},
   "outputs": [],
   "source": [
    "tokens_by_category = defaultdict(list)\n",
    "\n",
    "for key in pdfs_text:\n",
    "    category, _ = key\n",
    "    text = pdfs_text[key]\n",
    "    tokens_by_category[category] += get_tokens_from_text(text)\n",
    "\n",
    "\n",
    "frequencies_by_category = {}\n",
    "for category in tokens_by_category:\n",
    "    frequencies_by_category[category] = nltk.FreqDist(tokens_by_category[category])"
   ]
  },
  {
   "cell_type": "code",
   "execution_count": null,
   "metadata": {},
   "outputs": [],
   "source": [
    "for category in frequencies_by_category:\n",
    "    freq_dist_to_csv(frequencies_by_category[category], category)"
   ]
  },
  {
   "cell_type": "code",
   "execution_count": null,
   "metadata": {},
   "outputs": [],
   "source": [
    "pdfs_text.keys()"
   ]
  },
  {
   "cell_type": "markdown",
   "metadata": {},
   "source": [
    "# Spacy Stuff"
   ]
  },
  {
   "cell_type": "code",
   "execution_count": 5,
   "metadata": {},
   "outputs": [],
   "source": [
    "nlp = spacy.load(\"en_core_web_md\")\n",
    "doc = nlp(pdfs_text[('vaping', '2012_0.pdf')])"
   ]
  },
  {
   "cell_type": "code",
   "execution_count": 8,
   "metadata": {},
   "outputs": [
    {
     "data": {
      "text/html": [
       "<div class=\"entities\" style=\"line-height: 2.5; direction: ltr\">chest</br>electronic cigarettes</br>no such thing as a free</br>lunch…or puff</br>of pulmonary and cardiac mediascine,practitioners</br>many of us have no doubt been asked by our</br></br>patients who smoke about so-called “electronic cigarettes” (e-cigarettes). these devices, termed electronic nicotine delivery systems (ends) by the world</br>health organization, have been available in the us</br>market since \n",
       "<mark class=\"entity\" style=\"background: #bfe1d9; padding: 0.45em 0.6em; margin: 0 0.25em; line-height: 1; border-radius: 0.35em; box-decoration-break: clone; -webkit-box-decoration-break: clone\">\n",
       "    2007\n",
       "    <span style=\"font-size: 0.8em; font-weight: bold; line-height: 1; border-radius: 0.35em; text-transform: uppercase; vertical-align: middle; margin-left: 0.5rem\">DATE</span>\n",
       "</mark>\n",
       ". our patients have likely heard</br>far more about these devices through marketing,</br>chat rooms, and word of mouth, than we as physicians have through the medical literature. because</br>ends are not currently regulated by the us food</br>and drug administration (fda) as medical \n",
       "<mark class=\"entity\" style=\"background: #aa9cfc; padding: 0.45em 0.6em; margin: 0 0.25em; line-height: 1; border-radius: 0.35em; box-decoration-break: clone; -webkit-box-decoration-break: clone\">\n",
       "    devices—\n",
       "\n",
       "    <span style=\"font-size: 0.8em; font-weight: bold; line-height: 1; border-radius: 0.35em; text-transform: uppercase; vertical-align: middle; margin-left: 0.5rem\">PERSON</span>\n",
       "</mark>\n",
       "recent court decisions, denied the agency the right</br>to such oversight—manufacturers of ends have not</br>been required to establish either safety or efﬁ</br>\n",
       "<mark class=\"entity\" style=\"background: #aa9cfc; padding: 0.45em 0.6em; margin: 0 0.25em; line-height: 1; border-radius: 0.35em; box-decoration-break: clone; -webkit-box-decoration-break: clone\">\n",
       "    ﬁcacy\n",
       "    <span style=\"font-size: 0.8em; font-weight: bold; line-height: 1; border-radius: 0.35em; text-transform: uppercase; vertical-align: middle; margin-left: 0.5rem\">PERSON</span>\n",
       "</mark>\n",
       ",</br>and we have had few data with which to answer our</br>patients’ queries about these products. are e-cigarettes</br>a smoking cessation tool? are they a harmless alternative to cigarettes, as manufacturers claim?</br>t (see page \n",
       "<mark class=\"entity\" style=\"background: #e4e7d2; padding: 0.45em 0.6em; margin: 0 0.25em; line-height: 1; border-radius: 0.35em; box-decoration-break: clone; -webkit-box-decoration-break: clone\">\n",
       "    1400\n",
       "    <span style=\"font-size: 0.8em; font-weight: bold; line-height: 1; border-radius: 0.35em; text-transform: uppercase; vertical-align: middle; margin-left: 0.5rem\">CARDINAL</span>\n",
       "</mark>\n",
       "), vardavas et all1</br>in this issue of chest</br>evaluated the immediate effect of e-cigarette vapors</br>on airway mechanics. subjects, healthy smokers without chronic lung disease, inhaled the vapors of a</br>commercially available e-cigarette for \n",
       "<mark class=\"entity\" style=\"background: #bfe1d9; padding: 0.45em 0.6em; margin: 0 0.25em; line-height: 1; border-radius: 0.35em; box-decoration-break: clone; -webkit-box-decoration-break: clone\">\n",
       "    5 min\n",
       "    <span style=\"font-size: 0.8em; font-weight: bold; line-height: 1; border-radius: 0.35em; text-transform: uppercase; vertical-align: middle; margin-left: 0.5rem\">TIME</span>\n",
       "</mark>\n",
       ". a comprehensive analysis of lung function, including oscillometry and spirometry, revealed that after inhaling</br>e-cigarette vapors, subjects had a signiﬁcant</br>ﬁ</br>increase</br>in airway resistance. there were no signiﬁcant</br>ﬁ</br>effects</br>on fev1, fvc, or fev1/fvc ratio. subjects also</br>had measurable, signiﬁcant decreases in fraction of</br>exhaled nitric oxide (feno). control subjects inhaling</br>vaporless control cigarettes did not have any changes</br>in airway resistance or feno. this pattern of changes</br>in airway mechanics and feno experienced by subjects using e-cigarettes is very similar to that seen</br>shortly after inhalation of tobacco smoke.2 the implication is that with long-term exposure to ends,</br>it is plausible that, as with cigarette smoking, there</br>is the potential for more permanent changes in lung</br>function. the study’s authors correctly point out that</br>www.chestpubs.org</br></br>editorials</br>chest | volume \n",
       "<mark class=\"entity\" style=\"background: #e4e7d2; padding: 0.45em 0.6em; margin: 0 0.25em; line-height: 1; border-radius: 0.35em; box-decoration-break: clone; -webkit-box-decoration-break: clone\">\n",
       "    141\n",
       "    <span style=\"font-size: 0.8em; font-weight: bold; line-height: 1; border-radius: 0.35em; text-transform: uppercase; vertical-align: middle; margin-left: 0.5rem\">CARDINAL</span>\n",
       "</mark>\n",
       " | number \n",
       "<mark class=\"entity\" style=\"background: #e4e7d2; padding: 0.45em 0.6em; margin: 0 0.25em; line-height: 1; border-radius: 0.35em; box-decoration-break: clone; -webkit-box-decoration-break: clone\">\n",
       "    6\n",
       "    <span style=\"font-size: 0.8em; font-weight: bold; line-height: 1; border-radius: 0.35em; text-transform: uppercase; vertical-align: middle; margin-left: 0.5rem\">CARDINAL</span>\n",
       "</mark>\n",
       " | june 2012</br></br>this is conjectural and that further research on the</br>long-term effects of ends is needed.</br>numerous manufacturers market ends, but the</br>devices share key design features. they use a batteryoperated heating device that vaporizes a nicotinecontaining solution from a replaceable cartridge in</br>a process triggered by the pressure drop that occurs</br>when the user inhales from the device. they resemble</br>cigarettes, and, in addition to providing nicotine in</br>inhaled form, replicate some of the behavioral aspects</br>of cigarette smoking. cartridges come with various</br>concentrations of nicotine, and reﬁll solutions containing large amounts of nicotine are available.3 the</br>most common vehicle in which the nicotine in such</br>cartridges is contained is propylene glycol, though</br>other chemicals may be used. the efﬁciency of systemic nicotine delivery with the e-cigarette is highly</br>variable,4 and the pharmacokinetics of nicotine delivery appear to more closely resemble those of nicotine replacement therapies than that of cigarettes.5</br>marketing materials for ends commonly emphasize the safety of the devices in comparison with cigarettes, claiming that the aerosols or vapors delivered</br>by the devices are “tar free” and lack the carcinogens and other chemicals found in cigarette smoke.</br>because of concerns about running afoul of the fda,</br>ends are not speciﬁcally marketed as smoking cessation aids.</br>users of ends tend to be former or current</br>smokers who choose ends for a variety of reasons,</br>including the markedly reduced cost compared with</br>cigarettes, the ability to use the devices in settings</br>in which cigarette smoking is prohibited, the curbing</br>of nicotine cravings, and the perceived lower toxicity</br>compared with traditional tobacco cigarettes.6 no</br>randomized controlled clinical trials have evaluated</br>ends as smoking cessation tools. ends appear</br>to be most commonly used by current smokers as</br>an alternative to cigarettes rather than as cessation</br>tools, although some ends users do reduce or eliminate cigarette use.7 given the relatively short time</br>that ends have been available, long-term patterns</br>of use are not clear, and it is plausible that, as with</br>cigarettes and other forms of nicotine, some users</br>will use the devices for prolonged periods. we as</br>physicians, and they as our patients, need and deserve</br>chest / \n",
       "<mark class=\"entity\" style=\"background: #bfe1d9; padding: 0.45em 0.6em; margin: 0 0.25em; line-height: 1; border-radius: 0.35em; box-decoration-break: clone; -webkit-box-decoration-break: clone\">\n",
       "    141 / 6 / june\n",
       "    <span style=\"font-size: 0.8em; font-weight: bold; line-height: 1; border-radius: 0.35em; text-transform: uppercase; vertical-align: middle; margin-left: 0.5rem\">DATE</span>\n",
       "</mark>\n",
       ", \n",
       "<mark class=\"entity\" style=\"background: #bfe1d9; padding: 0.45em 0.6em; margin: 0 0.25em; line-height: 1; border-radius: 0.35em; box-decoration-break: clone; -webkit-box-decoration-break: clone\">\n",
       "    2012\n",
       "    <span style=\"font-size: 0.8em; font-weight: bold; line-height: 1; border-radius: 0.35em; text-transform: uppercase; vertical-align: middle; margin-left: 0.5rem\">DATE</span>\n",
       "</mark>\n",
       "</br></br>downloaded from chestjournal.chestpubs.org by kimberly henricks on \n",
       "<mark class=\"entity\" style=\"background: #bfe1d9; padding: 0.45em 0.6em; margin: 0 0.25em; line-height: 1; border-radius: 0.35em; box-decoration-break: clone; -webkit-box-decoration-break: clone\">\n",
       "    june 5, 2012\n",
       "    <span style=\"font-size: 0.8em; font-weight: bold; line-height: 1; border-radius: 0.35em; text-transform: uppercase; vertical-align: middle; margin-left: 0.5rem\">DATE</span>\n",
       "</mark>\n",
       "</br>© \n",
       "<mark class=\"entity\" style=\"background: #bfe1d9; padding: 0.45em 0.6em; margin: 0 0.25em; line-height: 1; border-radius: 0.35em; box-decoration-break: clone; -webkit-box-decoration-break: clone\">\n",
       "    2012\n",
       "    <span style=\"font-size: 0.8em; font-weight: bold; line-height: 1; border-radius: 0.35em; text-transform: uppercase; vertical-align: middle; margin-left: 0.5rem\">DATE</span>\n",
       "</mark>\n",
       " american college of chest physicians</br></br>\n",
       "<mark class=\"entity\" style=\"background: #e4e7d2; padding: 0.45em 0.6em; margin: 0 0.25em; line-height: 1; border-radius: 0.35em; box-decoration-break: clone; -webkit-box-decoration-break: clone\">\n",
       "    1371\n",
       "    <span style=\"font-size: 0.8em; font-weight: bold; line-height: 1; border-radius: 0.35em; text-transform: uppercase; vertical-align: middle; margin-left: 0.5rem\">CARDINAL</span>\n",
       "</mark>\n",
       "</br></br>\f",
       "the information necessary to make informed choices</br>and recommendations about the safety of these devices</br>as alternatives to cigarettes and other available therapies for smoking cessation. although the fda has</br>pledged to regulate these devices as tobacco products, it is unclear what this will entail and how it will</br>change the availability, marketing, manufacturing, and</br>quality control of these devices.</br>the study by vardavas and colleagues,1 although</br>modest in its size, scope, and conclusions, provides</br>some much needed data on the potential harm of</br>e-cigarettes. clearly, more studies are needed on the</br>long-term effects of these devices, especially in patients</br>with chronic airways disease. in the interim, we now</br>have enough information to state that the use of the</br>ends does cause at least short-term adverse effects</br>that are similar to those of cigarettes, and to tell our</br>patients that there is no such thing as a free lunch…</br>or, in the case of ends, a (harm-) free puff.</br>mark v. avdalovic, md</br>susan murin, md, fccp</br>sacramento, ca</br>afﬁliations:</br>ﬁ</br>from the division of pulmonary,</br>y critical care, and</br>sleep</br>p medicine, department</br>p</br>of internal medicine, universityy of</br>\n",
       "<mark class=\"entity\" style=\"background: #feca74; padding: 0.45em 0.6em; margin: 0 0.25em; line-height: 1; border-radius: 0.35em; box-decoration-break: clone; -webkit-box-decoration-break: clone\">\n",
       "    california\n",
       "    <span style=\"font-size: 0.8em; font-weight: bold; line-height: 1; border-radius: 0.35em; text-transform: uppercase; vertical-align: middle; margin-left: 0.5rem\">GPE</span>\n",
       "</mark>\n",
       ", \n",
       "<mark class=\"entity\" style=\"background: #aa9cfc; padding: 0.45em 0.6em; margin: 0 0.25em; line-height: 1; border-radius: 0.35em; box-decoration-break: clone; -webkit-box-decoration-break: clone\">\n",
       "    davis\n",
       "    <span style=\"font-size: 0.8em; font-weight: bold; line-height: 1; border-radius: 0.35em; text-transform: uppercase; vertical-align: middle; margin-left: 0.5rem\">PERSON</span>\n",
       "</mark>\n",
       ", school of medicine; and va northern \n",
       "<mark class=\"entity\" style=\"background: #feca74; padding: 0.45em 0.6em; margin: 0 0.25em; line-height: 1; border-radius: 0.35em; box-decoration-break: clone; -webkit-box-decoration-break: clone\">\n",
       "    california\n",
       "    <span style=\"font-size: 0.8em; font-weight: bold; line-height: 1; border-radius: 0.35em; text-transform: uppercase; vertical-align: middle; margin-left: 0.5rem\">GPE</span>\n",
       "</mark>\n",
       "</br>healthcare system</br>y</br>.</br>financial/nonﬁ</br>ﬁnancial disclosures: the authors have reported</br>p</br>to chest</br>t that no p</br>potential conﬂicts of interest exist with anyy</br>companies/organizations</br>p</br>g</br>whose products or services may be discussed in this article.</br>correspondence</br>p</br>to: susan murin, md, fccp, division of</br>pulmonary,</br>y critical care, and sleep</br>p medicine, universityy of</br>\n",
       "<mark class=\"entity\" style=\"background: #feca74; padding: 0.45em 0.6em; margin: 0 0.25em; line-height: 1; border-radius: 0.35em; box-decoration-break: clone; -webkit-box-decoration-break: clone\">\n",
       "    california\n",
       "    <span style=\"font-size: 0.8em; font-weight: bold; line-height: 1; border-radius: 0.35em; text-transform: uppercase; vertical-align: middle; margin-left: 0.5rem\">GPE</span>\n",
       "</mark>\n",
       ", davis, \n",
       "<mark class=\"entity\" style=\"background: #e4e7d2; padding: 0.45em 0.6em; margin: 0 0.25em; line-height: 1; border-radius: 0.35em; box-decoration-break: clone; -webkit-box-decoration-break: clone\">\n",
       "    4150\n",
       "    <span style=\"font-size: 0.8em; font-weight: bold; line-height: 1; border-radius: 0.35em; text-transform: uppercase; vertical-align: middle; margin-left: 0.5rem\">CARDINAL</span>\n",
       "</mark>\n",
       " v st, ste \n",
       "<mark class=\"entity\" style=\"background: #e4e7d2; padding: 0.45em 0.6em; margin: 0 0.25em; line-height: 1; border-radius: 0.35em; box-decoration-break: clone; -webkit-box-decoration-break: clone\">\n",
       "    3400\n",
       "    <span style=\"font-size: 0.8em; font-weight: bold; line-height: 1; border-radius: 0.35em; text-transform: uppercase; vertical-align: middle; margin-left: 0.5rem\">CARDINAL</span>\n",
       "</mark>\n",
       ", sacramento, ca \n",
       "<mark class=\"entity\" style=\"background: #e4e7d2; padding: 0.45em 0.6em; margin: 0 0.25em; line-height: 1; border-radius: 0.35em; box-decoration-break: clone; -webkit-box-decoration-break: clone\">\n",
       "    95817\n",
       "    <span style=\"font-size: 0.8em; font-weight: bold; line-height: 1; border-radius: 0.35em; text-transform: uppercase; vertical-align: middle; margin-left: 0.5rem\">CARDINAL</span>\n",
       "</mark>\n",
       ";</br>e-mail: susan.murin@ucdmc.ucdavis.edu</br>© \n",
       "<mark class=\"entity\" style=\"background: #e4e7d2; padding: 0.45em 0.6em; margin: 0 0.25em; line-height: 1; border-radius: 0.35em; box-decoration-break: clone; -webkit-box-decoration-break: clone\">\n",
       "    2012\n",
       "    <span style=\"font-size: 0.8em; font-weight: bold; line-height: 1; border-radius: 0.35em; text-transform: uppercase; vertical-align: middle; margin-left: 0.5rem\">CARDINAL</span>\n",
       "</mark>\n",
       " \n",
       "<mark class=\"entity\" style=\"background: #c887fb; padding: 0.45em 0.6em; margin: 0 0.25em; line-height: 1; border-radius: 0.35em; box-decoration-break: clone; -webkit-box-decoration-break: clone\">\n",
       "    american\n",
       "    <span style=\"font-size: 0.8em; font-weight: bold; line-height: 1; border-radius: 0.35em; text-transform: uppercase; vertical-align: middle; margin-left: 0.5rem\">NORP</span>\n",
       "</mark>\n",
       " college</br>g of chest physicians.</br>y</br>reproduction</br>p</br>of this article is p</br>prohibited without written p</br>permission from the</br>\n",
       "<mark class=\"entity\" style=\"background: #c887fb; padding: 0.45em 0.6em; margin: 0 0.25em; line-height: 1; border-radius: 0.35em; box-decoration-break: clone; -webkit-box-decoration-break: clone\">\n",
       "    american\n",
       "    <span style=\"font-size: 0.8em; font-weight: bold; line-height: 1; border-radius: 0.35em; text-transform: uppercase; vertical-align: middle; margin-left: 0.5rem\">NORP</span>\n",
       "</mark>\n",
       " college</br>g of chest physicians.</br>y</br>see online for more details.</br>doi: \n",
       "<mark class=\"entity\" style=\"background: #e4e7d2; padding: 0.45em 0.6em; margin: 0 0.25em; line-height: 1; border-radius: 0.35em; box-decoration-break: clone; -webkit-box-decoration-break: clone\">\n",
       "    10.1378/chest.12-0205\n",
       "    <span style=\"font-size: 0.8em; font-weight: bold; line-height: 1; border-radius: 0.35em; text-transform: uppercase; vertical-align: middle; margin-left: 0.5rem\">CARDINAL</span>\n",
       "</mark>\n",
       "</br></br>references</br>\n",
       "<mark class=\"entity\" style=\"background: #e4e7d2; padding: 0.45em 0.6em; margin: 0 0.25em; line-height: 1; border-radius: 0.35em; box-decoration-break: clone; -webkit-box-decoration-break: clone\">\n",
       "    1\n",
       "    <span style=\"font-size: 0.8em; font-weight: bold; line-height: 1; border-radius: 0.35em; text-transform: uppercase; vertical-align: middle; margin-left: 0.5rem\">CARDINAL</span>\n",
       "</mark>\n",
       ". vardavas ci, anagnostopoulos n, kougias m, evangelopoulou v,</br>connolly gn, behrakis pk. short-term pulmonary effects of</br>using an electronic cigarette: impact on respiratory ﬂ</br>ﬂow resistance, impedance, and exhaled nitric oxide. chestt. 2012;141(6):</br>\n",
       "<mark class=\"entity\" style=\"background: #e4e7d2; padding: 0.45em 0.6em; margin: 0 0.25em; line-height: 1; border-radius: 0.35em; box-decoration-break: clone; -webkit-box-decoration-break: clone\">\n",
       "    1400-1406\n",
       "    <span style=\"font-size: 0.8em; font-weight: bold; line-height: 1; border-radius: 0.35em; text-transform: uppercase; vertical-align: middle; margin-left: 0.5rem\">CARDINAL</span>\n",
       "</mark>\n",
       ".</br>\n",
       "<mark class=\"entity\" style=\"background: #e4e7d2; padding: 0.45em 0.6em; margin: 0 0.25em; line-height: 1; border-radius: 0.35em; box-decoration-break: clone; -webkit-box-decoration-break: clone\">\n",
       "    2\n",
       "    <span style=\"font-size: 0.8em; font-weight: bold; line-height: 1; border-radius: 0.35em; text-transform: uppercase; vertical-align: middle; margin-left: 0.5rem\">CARDINAL</span>\n",
       "</mark>\n",
       ". karrasch s, ernst k, behr j, et al; kora study group. exhaled</br>nitric oxide and inﬂuencing factors in a random population</br>sample. respir med. 2011;105(5):713-\n",
       "<mark class=\"entity\" style=\"background: #e4e7d2; padding: 0.45em 0.6em; margin: 0 0.25em; line-height: 1; border-radius: 0.35em; box-decoration-break: clone; -webkit-box-decoration-break: clone\">\n",
       "    718\n",
       "    <span style=\"font-size: 0.8em; font-weight: bold; line-height: 1; border-radius: 0.35em; text-transform: uppercase; vertical-align: middle; margin-left: 0.5rem\">CARDINAL</span>\n",
       "</mark>\n",
       ".</br>\n",
       "<mark class=\"entity\" style=\"background: #e4e7d2; padding: 0.45em 0.6em; margin: 0 0.25em; line-height: 1; border-radius: 0.35em; box-decoration-break: clone; -webkit-box-decoration-break: clone\">\n",
       "    3\n",
       "    <span style=\"font-size: 0.8em; font-weight: bold; line-height: 1; border-radius: 0.35em; text-transform: uppercase; vertical-align: middle; margin-left: 0.5rem\">CARDINAL</span>\n",
       "</mark>\n",
       ". cobb nk, abrams db. e-cigarette or drug-delivery device?</br>regulating novel nicotine products. n engl j med. 2011;</br>\n",
       "<mark class=\"entity\" style=\"background: #e4e7d2; padding: 0.45em 0.6em; margin: 0 0.25em; line-height: 1; border-radius: 0.35em; box-decoration-break: clone; -webkit-box-decoration-break: clone\">\n",
       "    365(3):193\n",
       "    <span style=\"font-size: 0.8em; font-weight: bold; line-height: 1; border-radius: 0.35em; text-transform: uppercase; vertical-align: middle; margin-left: 0.5rem\">CARDINAL</span>\n",
       "</mark>\n",
       "-195.</br>\n",
       "<mark class=\"entity\" style=\"background: #e4e7d2; padding: 0.45em 0.6em; margin: 0 0.25em; line-height: 1; border-radius: 0.35em; box-decoration-break: clone; -webkit-box-decoration-break: clone\">\n",
       "    4\n",
       "    <span style=\"font-size: 0.8em; font-weight: bold; line-height: 1; border-radius: 0.35em; text-transform: uppercase; vertical-align: middle; margin-left: 0.5rem\">CARDINAL</span>\n",
       "</mark>\n",
       ". eissenberg t. electronic nicotine delivery devices: ineffective</br>nicotine delivery and craving suppression after acute administration. tob control. \n",
       "<mark class=\"entity\" style=\"background: #e4e7d2; padding: 0.45em 0.6em; margin: 0 0.25em; line-height: 1; border-radius: 0.35em; box-decoration-break: clone; -webkit-box-decoration-break: clone\">\n",
       "    2010;19(1):87\n",
       "    <span style=\"font-size: 0.8em; font-weight: bold; line-height: 1; border-radius: 0.35em; text-transform: uppercase; vertical-align: middle; margin-left: 0.5rem\">CARDINAL</span>\n",
       "</mark>\n",
       "-88.</br>\n",
       "<mark class=\"entity\" style=\"background: #e4e7d2; padding: 0.45em 0.6em; margin: 0 0.25em; line-height: 1; border-radius: 0.35em; box-decoration-break: clone; -webkit-box-decoration-break: clone\">\n",
       "    5\n",
       "    <span style=\"font-size: 0.8em; font-weight: bold; line-height: 1; border-radius: 0.35em; text-transform: uppercase; vertical-align: middle; margin-left: 0.5rem\">CARDINAL</span>\n",
       "</mark>\n",
       ". bullen c, mcrobbie h, thornley s, glover m, lin r,</br>laugesen m. effect of an electronic nicotine delivery device</br>(e cigarette) on desire to smoke and withdrawal, user preferences and nicotine delivery: randomised cross-over trial.</br>tob control. \n",
       "<mark class=\"entity\" style=\"background: #e4e7d2; padding: 0.45em 0.6em; margin: 0 0.25em; line-height: 1; border-radius: 0.35em; box-decoration-break: clone; -webkit-box-decoration-break: clone\">\n",
       "    2010;19(2):98-103\n",
       "    <span style=\"font-size: 0.8em; font-weight: bold; line-height: 1; border-radius: 0.35em; text-transform: uppercase; vertical-align: middle; margin-left: 0.5rem\">CARDINAL</span>\n",
       "</mark>\n",
       ".</br>\n",
       "<mark class=\"entity\" style=\"background: #e4e7d2; padding: 0.45em 0.6em; margin: 0 0.25em; line-height: 1; border-radius: 0.35em; box-decoration-break: clone; -webkit-box-decoration-break: clone\">\n",
       "    6\n",
       "    <span style=\"font-size: 0.8em; font-weight: bold; line-height: 1; border-radius: 0.35em; text-transform: uppercase; vertical-align: middle; margin-left: 0.5rem\">CARDINAL</span>\n",
       "</mark>\n",
       ". etter jf, bullen c. electronic cigarette: users proﬁle,</br>ﬁ utilization, satisfaction and perceived efﬁ</br>ﬁcacy. addiction. \n",
       "<mark class=\"entity\" style=\"background: #bfe1d9; padding: 0.45em 0.6em; margin: 0 0.25em; line-height: 1; border-radius: 0.35em; box-decoration-break: clone; -webkit-box-decoration-break: clone\">\n",
       "    2011\n",
       "    <span style=\"font-size: 0.8em; font-weight: bold; line-height: 1; border-radius: 0.35em; text-transform: uppercase; vertical-align: middle; margin-left: 0.5rem\">DATE</span>\n",
       "</mark>\n",
       ";</br>\n",
       "<mark class=\"entity\" style=\"background: #e4e7d2; padding: 0.45em 0.6em; margin: 0 0.25em; line-height: 1; border-radius: 0.35em; box-decoration-break: clone; -webkit-box-decoration-break: clone\">\n",
       "    106(11):2017\n",
       "    <span style=\"font-size: 0.8em; font-weight: bold; line-height: 1; border-radius: 0.35em; text-transform: uppercase; vertical-align: middle; margin-left: 0.5rem\">CARDINAL</span>\n",
       "</mark>\n",
       "-\n",
       "<mark class=\"entity\" style=\"background: #bfe1d9; padding: 0.45em 0.6em; margin: 0 0.25em; line-height: 1; border-radius: 0.35em; box-decoration-break: clone; -webkit-box-decoration-break: clone\">\n",
       "    2028\n",
       "    <span style=\"font-size: 0.8em; font-weight: bold; line-height: 1; border-radius: 0.35em; text-transform: uppercase; vertical-align: middle; margin-left: 0.5rem\">DATE</span>\n",
       "</mark>\n",
       ".</br></br>\n",
       "<mark class=\"entity\" style=\"background: #e4e7d2; padding: 0.45em 0.6em; margin: 0 0.25em; line-height: 1; border-radius: 0.35em; box-decoration-break: clone; -webkit-box-decoration-break: clone\">\n",
       "    7\n",
       "    <span style=\"font-size: 0.8em; font-weight: bold; line-height: 1; border-radius: 0.35em; text-transform: uppercase; vertical-align: middle; margin-left: 0.5rem\">CARDINAL</span>\n",
       "</mark>\n",
       ". polosa r, caponnetto p, morjaria jb, papale g, campagna d,</br>russo c. effect of an electronic nicotine delivery device</br>(e-cigarette) on smoking reduction and cessation: a prospective 6-month pilot study. bmc public health. 2011;11:786.</br></br>the pharyngeal airway</br>is bigger really better?</br>issue of chest</br>t (see page \n",
       "<mark class=\"entity\" style=\"background: #e4e7d2; padding: 0.45em 0.6em; margin: 0 0.25em; line-height: 1; border-radius: 0.35em; box-decoration-break: clone; -webkit-box-decoration-break: clone\">\n",
       "    1407\n",
       "    <span style=\"font-size: 0.8em; font-weight: bold; line-height: 1; border-radius: 0.35em; text-transform: uppercase; vertical-align: middle; margin-left: 0.5rem\">CARDINAL</span>\n",
       "</mark>\n",
       "), yamashiro</br>inandthiskryger</br>report the results from a consecutive</br>\n",
       "<mark class=\"entity\" style=\"background: #e4e7d2; padding: 0.45em 0.6em; margin: 0 0.25em; line-height: 1; border-radius: 0.35em; box-decoration-break: clone; -webkit-box-decoration-break: clone\">\n",
       "    1\n",
       "    <span style=\"font-size: 0.8em; font-weight: bold; line-height: 1; border-radius: 0.35em; text-transform: uppercase; vertical-align: middle; margin-left: 0.5rem\">CARDINAL</span>\n",
       "</mark>\n",
       "</br></br>series of patients with obstructive sleep apnea (osa)</br>who underwent ct scans. the authors observed</br>important associations between pharyngeal airway</br>length and various risk factors for osa (including</br>age and sex) and postulated that “laryngeal descent,”</br>perhaps having evolved for speech, may have consequences from the standpoint of pharyngeal mechanics.</br>the article helps to corroborate existing literature</br>and provides an opportunity to consider the mechanical basis underlying pharyngeal airway collapse in</br>humans.</br>in discussing pharyngeal airway length, an important distinction must be made between the intrinsic</br>length of the airway vs the length that may result</br>from changes in longitudinal tension. in the former,</br>physical principles as well as computational modeling</br>and human experimental data all support the concept</br>that a longer airway is more vulnerable to pharyngeal</br>collapse during inspiration than would be a shorter</br>airway.2 for a given negative intrapharyngeal pressure, the force per unit area would favor collapse in</br>the longer airway as compared with a shorter \n",
       "<mark class=\"entity\" style=\"background: #e4e7d2; padding: 0.45em 0.6em; margin: 0 0.25em; line-height: 1; border-radius: 0.35em; box-decoration-break: clone; -webkit-box-decoration-break: clone\">\n",
       "    one\n",
       "    <span style=\"font-size: 0.8em; font-weight: bold; line-height: 1; border-radius: 0.35em; text-transform: uppercase; vertical-align: middle; margin-left: 0.5rem\">CARDINAL</span>\n",
       "</mark>\n",
       ".</br>moreover, the radius of curvature (in the longitudinal direction) will be larger in a long airway than</br>it will be in a short airway, and based on the law of</br>laplace, less negative intrapharyngeal pressure would</br>be required to reduce airway volume through longitudinal bending; the longer airway is more susceptible</br>to collapse. on the other hand, if an airway is lengthened through increased longitudinal tension, it may be</br>less susceptible to inspiratory collapse due to stiffening</br>in the airway walls through changes in the tube law.3</br>similar arguments can be made regarding the</br>diameter in the pharyngeal airway, which could be</br>intrinsically small or could be made smaller by extraluminal forces (eg, parapharyngeal fat \n",
       "<mark class=\"entity\" style=\"background: #aa9cfc; padding: 0.45em 0.6em; margin: 0 0.25em; line-height: 1; border-radius: 0.35em; box-decoration-break: clone; -webkit-box-decoration-break: clone\">\n",
       "    deposition).4\n",
       "\n",
       "    <span style=\"font-size: 0.8em; font-weight: bold; line-height: 1; border-radius: 0.35em; text-transform: uppercase; vertical-align: middle; margin-left: 0.5rem\">PERSON</span>\n",
       "</mark>\n",
       "in the case of the intrinsically small-diameter airway,</br>one would predict protection from collapse based on</br>the small area upon which a given intrapharyngeal</br>negative pressure is acting. in other words, based on</br>the law of laplace, increased negative pressure is</br>required to collapse a tube with small radius of curvature (ie, small diameter airway) than that required</br>for a larger one; the smaller one is less susceptible</br></br>1372</br></br>editorials</br></br>downloaded from chestjournal.chestpubs.org by kimberly henricks on \n",
       "<mark class=\"entity\" style=\"background: #bfe1d9; padding: 0.45em 0.6em; margin: 0 0.25em; line-height: 1; border-radius: 0.35em; box-decoration-break: clone; -webkit-box-decoration-break: clone\">\n",
       "    june 5, 2012\n",
       "    <span style=\"font-size: 0.8em; font-weight: bold; line-height: 1; border-radius: 0.35em; text-transform: uppercase; vertical-align: middle; margin-left: 0.5rem\">DATE</span>\n",
       "</mark>\n",
       "</br>© \n",
       "<mark class=\"entity\" style=\"background: #bfe1d9; padding: 0.45em 0.6em; margin: 0 0.25em; line-height: 1; border-radius: 0.35em; box-decoration-break: clone; -webkit-box-decoration-break: clone\">\n",
       "    2012\n",
       "    <span style=\"font-size: 0.8em; font-weight: bold; line-height: 1; border-radius: 0.35em; text-transform: uppercase; vertical-align: middle; margin-left: 0.5rem\">DATE</span>\n",
       "</mark>\n",
       " american college of chest physicians\n",
       "\n",
       "\f",
       "</div>"
      ],
      "text/plain": [
       "<IPython.core.display.HTML object>"
      ]
     },
     "metadata": {},
     "output_type": "display_data"
    }
   ],
   "source": [
    "displacy.render(doc, style=\"ent\")"
   ]
  },
  {
   "cell_type": "code",
   "execution_count": null,
   "metadata": {},
   "outputs": [],
   "source": []
  },
  {
   "cell_type": "markdown",
   "metadata": {},
   "source": [
    "# Other"
   ]
  },
  {
   "cell_type": "code",
   "execution_count": null,
   "metadata": {},
   "outputs": [],
   "source": [
    "vectorizer = TfidfVectorizer()\n",
    "X = vectorizer.fit_transform(pdfs_text.values())"
   ]
  },
  {
   "cell_type": "code",
   "execution_count": null,
   "metadata": {},
   "outputs": [],
   "source": [
    "x = X.toarray()"
   ]
  },
  {
   "cell_type": "code",
   "execution_count": null,
   "metadata": {},
   "outputs": [],
   "source": [
    "features = np.array(vectorizer.get_feature_names())"
   ]
  },
  {
   "cell_type": "code",
   "execution_count": null,
   "metadata": {},
   "outputs": [],
   "source": [
    "stop_words = set()\n",
    "# stop_words = set(features[x.max(axis = 0) < 0.1])\n",
    "stop_words = stop_words.union(set(stopwords.words('english')))\n",
    "stop_words = stop_words.union(set(string.punctuation))\n",
    "stop_words = stop_words.union({str(x) for x in range(100)})"
   ]
  },
  {
   "cell_type": "code",
   "execution_count": null,
   "metadata": {},
   "outputs": [],
   "source": [
    "tokens = []\n",
    "\n",
    "for text in pdfs_text.values():\n",
    "    for token in nltk.tokenize.word_tokenize(text):\n",
    "        if token not in stop_words:\n",
    "            tokens.append(token)\n",
    "\n",
    "fd = nltk.FreqDist(tokens)"
   ]
  },
  {
   "cell_type": "code",
   "execution_count": null,
   "metadata": {},
   "outputs": [],
   "source": [
    "# fd.most_common()\n",
    "\n",
    "for word, freq in fd.most_common()[:5]:\n",
    "    plt.bar(word, freq)"
   ]
  },
  {
   "cell_type": "code",
   "execution_count": null,
   "metadata": {},
   "outputs": [],
   "source": []
  },
  {
   "cell_type": "code",
   "execution_count": null,
   "metadata": {},
   "outputs": [],
   "source": []
  },
  {
   "cell_type": "code",
   "execution_count": null,
   "metadata": {},
   "outputs": [],
   "source": []
  },
  {
   "cell_type": "code",
   "execution_count": null,
   "metadata": {},
   "outputs": [],
   "source": [
    "pd"
   ]
  },
  {
   "cell_type": "code",
   "execution_count": null,
   "metadata": {},
   "outputs": [],
   "source": [
    "stylecloud.gen_stylecloud(pdfs_text[pdf], icon_name=\"fas fa-smoking\")"
   ]
  },
  {
   "cell_type": "code",
   "execution_count": null,
   "metadata": {},
   "outputs": [],
   "source": []
  }
 ],
 "metadata": {
  "kernelspec": {
   "display_name": "Python 3",
   "language": "python",
   "name": "python3"
  },
  "language_info": {
   "codemirror_mode": {
    "name": "ipython",
    "version": 3
   },
   "file_extension": ".py",
   "mimetype": "text/x-python",
   "name": "python",
   "nbconvert_exporter": "python",
   "pygments_lexer": "ipython3",
   "version": "3.6.8"
  }
 },
 "nbformat": 4,
 "nbformat_minor": 4
}
